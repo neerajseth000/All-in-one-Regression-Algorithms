{
 "cells": [
  {
   "cell_type": "markdown",
   "metadata": {},
   "source": [
    "### In this File, I am giving all-in-one algorithm for Regression problem. These algorthms can be applied to predict continuos variable such as sales etc.\n",
    "1. In this file I had included below 5 Algorithm, more algorithm can also be added in the series.\n",
    "2. This file is focused only on all-in-one algoritms, however for more detail of Boston Data Set refer: https://github.com/neerajseth000/Boston_dtaset-Linear-regression/tree/master\n",
    "3. For the Classification Problems refer all-in-one-classification algorithms :https://github.com/neerajseth000/All-in-one-Classification-algorithms"
   ]
  },
  {
   "cell_type": "code",
   "execution_count": 1,
   "metadata": {},
   "outputs": [],
   "source": [
    "#importing libraries\n",
    "from sklearn.datasets import load_boston\n",
    "import pandas as pd\n",
    "import numpy as np"
   ]
  },
  {
   "cell_type": "code",
   "execution_count": 2,
   "metadata": {},
   "outputs": [
    {
     "data": {
      "text/html": [
       "<div>\n",
       "<style scoped>\n",
       "    .dataframe tbody tr th:only-of-type {\n",
       "        vertical-align: middle;\n",
       "    }\n",
       "\n",
       "    .dataframe tbody tr th {\n",
       "        vertical-align: top;\n",
       "    }\n",
       "\n",
       "    .dataframe thead th {\n",
       "        text-align: right;\n",
       "    }\n",
       "</style>\n",
       "<table border=\"1\" class=\"dataframe\">\n",
       "  <thead>\n",
       "    <tr style=\"text-align: right;\">\n",
       "      <th></th>\n",
       "      <th>CRIM</th>\n",
       "      <th>ZN</th>\n",
       "      <th>INDUS</th>\n",
       "      <th>CHAS</th>\n",
       "      <th>NOX</th>\n",
       "      <th>RM</th>\n",
       "      <th>AGE</th>\n",
       "      <th>DIS</th>\n",
       "      <th>RAD</th>\n",
       "      <th>TAX</th>\n",
       "      <th>PTRATIO</th>\n",
       "      <th>B</th>\n",
       "      <th>LSTAT</th>\n",
       "      <th>PRICE</th>\n",
       "    </tr>\n",
       "  </thead>\n",
       "  <tbody>\n",
       "    <tr>\n",
       "      <th>0</th>\n",
       "      <td>0.00632</td>\n",
       "      <td>18.0</td>\n",
       "      <td>2.31</td>\n",
       "      <td>0.0</td>\n",
       "      <td>0.538</td>\n",
       "      <td>6.575</td>\n",
       "      <td>65.2</td>\n",
       "      <td>4.0900</td>\n",
       "      <td>1.0</td>\n",
       "      <td>296.0</td>\n",
       "      <td>15.3</td>\n",
       "      <td>396.9</td>\n",
       "      <td>4.98</td>\n",
       "      <td>24.0</td>\n",
       "    </tr>\n",
       "    <tr>\n",
       "      <th>1</th>\n",
       "      <td>0.02731</td>\n",
       "      <td>0.0</td>\n",
       "      <td>7.07</td>\n",
       "      <td>0.0</td>\n",
       "      <td>0.469</td>\n",
       "      <td>6.421</td>\n",
       "      <td>78.9</td>\n",
       "      <td>4.9671</td>\n",
       "      <td>2.0</td>\n",
       "      <td>242.0</td>\n",
       "      <td>17.8</td>\n",
       "      <td>396.9</td>\n",
       "      <td>9.14</td>\n",
       "      <td>21.6</td>\n",
       "    </tr>\n",
       "  </tbody>\n",
       "</table>\n",
       "</div>"
      ],
      "text/plain": [
       "      CRIM    ZN  INDUS  CHAS    NOX     RM   AGE     DIS  RAD    TAX  \\\n",
       "0  0.00632  18.0   2.31   0.0  0.538  6.575  65.2  4.0900  1.0  296.0   \n",
       "1  0.02731   0.0   7.07   0.0  0.469  6.421  78.9  4.9671  2.0  242.0   \n",
       "\n",
       "   PTRATIO      B  LSTAT  PRICE  \n",
       "0     15.3  396.9   4.98   24.0  \n",
       "1     17.8  396.9   9.14   21.6  "
      ]
     },
     "execution_count": 2,
     "metadata": {},
     "output_type": "execute_result"
    }
   ],
   "source": [
    "boston = load_boston() # Load Boston Dataset in boston \n",
    "bos = pd.DataFrame(boston.data)\n",
    "bos.columns = boston.feature_names\n",
    "bos['PRICE'] = boston.target\n",
    "bos.head(2)"
   ]
  },
  {
   "cell_type": "code",
   "execution_count": 3,
   "metadata": {},
   "outputs": [],
   "source": [
    "# split the dependent and independent variable\n",
    "X = bos.drop(\"PRICE\",1)   #Feature Matrix\n",
    "y = bos[\"PRICE\"]          #Target Variable"
   ]
  },
  {
   "cell_type": "code",
   "execution_count": 4,
   "metadata": {},
   "outputs": [
    {
     "name": "stdout",
     "output_type": "stream",
     "text": [
      "(379, 13)\n",
      "(127, 13)\n",
      "(379,)\n",
      "(127,)\n"
     ]
    }
   ],
   "source": [
    "from sklearn.model_selection import train_test_split\n",
    "x_train,x_test,y_train,y_test = train_test_split(X, y, random_state=3)\n",
    "print(x_train.shape)\n",
    "print(x_test.shape)\n",
    "print(y_train.shape)\n",
    "print(y_test.shape)"
   ]
  },
  {
   "cell_type": "code",
   "execution_count": 6,
   "metadata": {},
   "outputs": [
    {
     "name": "stderr",
     "output_type": "stream",
     "text": [
      "C:\\Users\\HP\\Anaconda3\\lib\\site-packages\\sklearn\\ensemble\\forest.py:245: FutureWarning: The default value of n_estimators will change from 10 in version 0.20 to 100 in 0.22.\n",
      "  \"10 in version 0.20 to 100 in 0.22.\", FutureWarning)\n"
     ]
    },
    {
     "data": {
      "text/html": [
       "<div>\n",
       "<style scoped>\n",
       "    .dataframe tbody tr th:only-of-type {\n",
       "        vertical-align: middle;\n",
       "    }\n",
       "\n",
       "    .dataframe tbody tr th {\n",
       "        vertical-align: top;\n",
       "    }\n",
       "\n",
       "    .dataframe thead th {\n",
       "        text-align: right;\n",
       "    }\n",
       "</style>\n",
       "<table border=\"1\" class=\"dataframe\">\n",
       "  <thead>\n",
       "    <tr style=\"text-align: right;\">\n",
       "      <th></th>\n",
       "      <th>Linear Regression</th>\n",
       "      <th>Decision Tree Regressor</th>\n",
       "      <th>Random Forest Regressor</th>\n",
       "      <th>Gradient Boosting Regressor</th>\n",
       "      <th>Bagging Regressor</th>\n",
       "    </tr>\n",
       "  </thead>\n",
       "  <tbody>\n",
       "    <tr>\n",
       "      <th>Training Accuracy</th>\n",
       "      <td>0.728066</td>\n",
       "      <td>1.000000</td>\n",
       "      <td>0.975571</td>\n",
       "      <td>0.978293</td>\n",
       "      <td>0.974133</td>\n",
       "    </tr>\n",
       "    <tr>\n",
       "      <th>Testing Accuracy</th>\n",
       "      <td>0.766890</td>\n",
       "      <td>0.814422</td>\n",
       "      <td>0.870872</td>\n",
       "      <td>0.898210</td>\n",
       "      <td>0.882308</td>\n",
       "    </tr>\n",
       "  </tbody>\n",
       "</table>\n",
       "</div>"
      ],
      "text/plain": [
       "                   Linear Regression  Decision Tree Regressor  \\\n",
       "Training Accuracy           0.728066                 1.000000   \n",
       "Testing Accuracy            0.766890                 0.814422   \n",
       "\n",
       "                   Random Forest Regressor  Gradient Boosting Regressor  \\\n",
       "Training Accuracy                 0.975571                     0.978293   \n",
       "Testing Accuracy                  0.870872                     0.898210   \n",
       "\n",
       "                   Bagging Regressor  \n",
       "Training Accuracy           0.974133  \n",
       "Testing Accuracy            0.882308  "
      ]
     },
     "execution_count": 6,
     "metadata": {},
     "output_type": "execute_result"
    }
   ],
   "source": [
    "from sklearn.tree import DecisionTreeRegressor\n",
    "from sklearn.metrics import accuracy_score,classification_report,confusion_matrix,cohen_kappa_score\n",
    "from sklearn.linear_model import LinearRegression\n",
    "from sklearn.metrics import accuracy_score,classification_report,confusion_matrix,cohen_kappa_score\n",
    "from sklearn.metrics import mean_absolute_error,mean_squared_error\n",
    "x_train=x_train # put the value of x_train after spliting in train-test\n",
    "y_train=y_train # put the value of y_train after spliting in train-test\n",
    "x_test=x_test   # put the value of x_test after spliting in train-test\n",
    "y_test=y_test   # put the value of y_test after spliting in train-test\n",
    "\n",
    "lr = LinearRegression()\n",
    "pred1 = lr.fit(x_train,y_train).predict(x_test)\n",
    "lr_train=lr.score(x_train,y_train)\n",
    "lr_test=lr.score(x_test,y_test)\n",
    "####################################################\n",
    "dtree=DecisionTreeRegressor()\n",
    "pred_dtree = dtree.fit(x_train,y_train).predict(x_test)\n",
    "dtree_train=dtree.score(x_train,y_train)\n",
    "dtree_test=dtree.score(x_test,y_test)\n",
    "##############################################################\n",
    "from sklearn.ensemble import RandomForestRegressor\n",
    "rf = RandomForestRegressor()\n",
    "pred_rf = rf.fit(x_train,y_train).predict(x_test)\n",
    "rf_train=rf.score(x_train,y_train)\n",
    "rf_test=rf.score(x_test,y_test)\n",
    "#############################################################\n",
    "from sklearn.ensemble import GradientBoostingRegressor\n",
    "gbm=GradientBoostingRegressor()\n",
    "pred_gbm = gbm.fit(x_train,y_train).predict(x_test)\n",
    "gbm_train=gbm.score(x_train,y_train)\n",
    "gbm_test=gbm.score(x_test,y_test)\n",
    "#############################################################\n",
    "from sklearn.ensemble import BaggingRegressor\n",
    "bagg=BaggingRegressor()\n",
    "pred_bagg = bagg.fit(x_train,y_train).predict(x_test)\n",
    "bagg_train=bagg.score(x_train,y_train)\n",
    "bagg_test=bagg.score(x_test,y_test)\n",
    "########################################################\n",
    "\n",
    "test_result={\"Linear Regression\":(lr_train,lr_test),\n",
    "      \"Decision Tree Regressor\":(dtree_train,dtree_test),\n",
    "      \"Random Forest Regressor\":(rf_train,rf_test),\n",
    "      \"Gradient Boosting Regressor\":(gbm_train,gbm_test),\n",
    "      \"Bagging Regressor\":(bagg_train,bagg_test)}\n",
    "\n",
    "table3=pd.DataFrame(test_result,index=[\"Training Accuracy\",\"Testing Accuracy\"])\n",
    "table3"
   ]
  },
  {
   "cell_type": "code",
   "execution_count": null,
   "metadata": {},
   "outputs": [],
   "source": []
  }
 ],
 "metadata": {
  "kernelspec": {
   "display_name": "Python 3",
   "language": "python",
   "name": "python3"
  },
  "language_info": {
   "codemirror_mode": {
    "name": "ipython",
    "version": 3
   },
   "file_extension": ".py",
   "mimetype": "text/x-python",
   "name": "python",
   "nbconvert_exporter": "python",
   "pygments_lexer": "ipython3",
   "version": "3.7.3"
  }
 },
 "nbformat": 4,
 "nbformat_minor": 2
}
